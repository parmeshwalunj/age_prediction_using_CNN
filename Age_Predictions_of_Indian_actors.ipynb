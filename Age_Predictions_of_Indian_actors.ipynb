{
  "nbformat": 4,
  "nbformat_minor": 0,
  "metadata": {
    "colab": {
      "name": "Age_Predictions_of_Indian_actors.ipynb",
      "provenance": [],
      "collapsed_sections": []
    },
    "kernelspec": {
      "name": "python3",
      "display_name": "Python 3"
    }
  },
  "cells": [
    {
      "cell_type": "markdown",
      "metadata": {
        "id": "M_Xud5YHKHMH",
        "colab_type": "text"
      },
      "source": [
        "#**Age Detection of Indian Actors Dataset**\n",
        "\n",
        "---\n",
        "\n",
        "\n",
        "\n",
        "---\n",
        "\n"
      ]
    },
    {
      "cell_type": "markdown",
      "metadata": {
        "id": "9cLgBPT5LEJs",
        "colab_type": "text"
      },
      "source": [
        "##**Problem Statement:** \n",
        "*This is a fascinating challenge for any deep learning enthusiast. The dataset contains\n",
        "thousands of images of Indian actors and your task is to identify their age. All the images\n",
        "are manually selected and cropped from the video frames resulting in a high degree of\n",
        "variability interms of scale, pose, expression, illumination, age, resolution, occlusion, and\n",
        "makeup. There are 19,906 images in the training set and 6,636 in the test set.*\n",
        "**Predict the age of the actors.**"
      ]
    },
    {
      "cell_type": "markdown",
      "metadata": {
        "id": "aVwsEBBXO8OF",
        "colab_type": "text"
      },
      "source": [
        "##**Applications of the Project:**\n",
        "###**1. Electronic Customer Relationship Management**:\n",
        "ECRM is the use of Internet-based technologies such as websites, emails, forums, and chat rooms, for effective managing of distinguished interactions with clients and individually communicating to them. Customers in different ages may have diverse preferences and expectations of a product. Therefore, companies may use automatic age estimation to monitor market trends and customize their products and services to meet needs and preferences of customers in different age groups. The problem here is how to acquire and analyze substantive personal data from all client groups without infringing on their privacy rights. With automatic age estimation, a camera can snap pictures of clients and automatically estimate their age groups in addition to collection of demographic data.\n",
        "###**2. Content Access:**\n",
        "With the proliferation of diverse content in televisions (TV) and the Internet, age estimation can be used to control access to unwanted content to children. A camera could be mounted on a TV to monitor people looking at it such that it switches off the TV if at a particular time unwanted content is streamed and people watching are children.\n",
        "###**3. Biometrics:**\n",
        "Age estimation via faces is a soft biometric that can be used to compliment biometric techniques like face recognition, fingerprints, or iris in order to improve recognition, verification, or authentication accuracies. Age estimation can be applied in age-invariant face recognition, iris recognition, hand geometry recognition, and fingerprint recognition in order to improve accuracy of hard (primary) biometric system."
      ]
    },
    {
      "cell_type": "markdown",
      "metadata": {
        "id": "9buoJA2dRnMR",
        "colab_type": "text"
      },
      "source": [
        "*Our insight towards this project is that we can use modify some features of this project to use it for different purposes like security systems and many others.*"
      ]
    },
    {
      "cell_type": "markdown",
      "metadata": {
        "id": "egr-K_psSVWy",
        "colab_type": "text"
      },
      "source": [
        "##**Algorithm used:**\n",
        "Convolutional Neural Network.\n",
        "\n",
        "*Which inputs an image and as per its training provides an output.*"
      ]
    },
    {
      "cell_type": "markdown",
      "metadata": {
        "id": "f7Y__JL_Gc4N",
        "colab_type": "text"
      },
      "source": [
        "# **Importing Important Libraries**"
      ]
    },
    {
      "cell_type": "code",
      "metadata": {
        "id": "rYUErWbxNpJZ",
        "colab_type": "code",
        "colab": {}
      },
      "source": [
        "import matplotlib.pyplot as plt\n",
        "from keras.utils import to_categorical\n",
        "from keras.models import Sequential\n",
        "from keras.layers import Conv2D\n",
        "from keras.layers import MaxPooling2D\n",
        "from keras.layers import Dense\n",
        "from keras.layers import Flatten\n",
        "import pandas as pd\n",
        "import numpy as np\n",
        "import os\n",
        "import random\n",
        "from skimage import io\n",
        "from skimage.transform import rescale, resize, downscale_local_mean\n",
        "import cv2\n",
        "import tensorflow as tf"
      ],
      "execution_count": 0,
      "outputs": []
    },
    {
      "cell_type": "code",
      "metadata": {
        "id": "tKnnK_N5-25a",
        "colab_type": "code",
        "outputId": "ac10631f-4cd0-41a0-d51d-f2377c48f564",
        "colab": {
          "base_uri": "https://localhost:8080/",
          "height": 54
        }
      },
      "source": [
        "from google.colab import drive\n",
        "drive.mount('/content/drive')"
      ],
      "execution_count": 0,
      "outputs": [
        {
          "output_type": "stream",
          "text": [
            "Drive already mounted at /content/drive; to attempt to forcibly remount, call drive.mount(\"/content/drive\", force_remount=True).\n"
          ],
          "name": "stdout"
        }
      ]
    },
    {
      "cell_type": "markdown",
      "metadata": {
        "id": "2heGuK4PGqoc",
        "colab_type": "text"
      },
      "source": [
        "# **Providing the Path for the train and test images**"
      ]
    },
    {
      "cell_type": "code",
      "metadata": {
        "id": "zLxUtN1l_SuV",
        "colab_type": "code",
        "colab": {}
      },
      "source": [
        "a = pd.read_csv(\"drive/My Drive/Data/train.csv\")\n",
        "b = pd.read_csv(\"drive/My Drive/Data/test.csv\")\n",
        "\n",
        "train_images = a.iloc[:,0]\n",
        "trainY = a.iloc[:,1]\n",
        "test_images = b.iloc[:,0]"
      ],
      "execution_count": 0,
      "outputs": []
    },
    {
      "cell_type": "code",
      "metadata": {
        "id": "uDLMM8YgAiCl",
        "colab_type": "code",
        "colab": {}
      },
      "source": [
        "#Providing the path \n",
        "root_dir = os.path.abspath('.')\n",
        "data_dir = '/content/drive/My Drive/Data'\n",
        "\n",
        "train = pd.read_csv(os.path.join(data_dir, 'train.csv'))\n",
        "test = pd.read_csv(os.path.join(data_dir, 'test.csv'))"
      ],
      "execution_count": 0,
      "outputs": []
    },
    {
      "cell_type": "markdown",
      "metadata": {
        "id": "uDV6KgaNHCJR",
        "colab_type": "text"
      },
      "source": [
        "# **Checking the path of the images**"
      ]
    },
    {
      "cell_type": "code",
      "metadata": {
        "id": "3HcHgGuKBJg2",
        "colab_type": "code",
        "outputId": "6f1ca626-08fc-4afa-daef-a281c9123344",
        "colab": {
          "base_uri": "https://localhost:8080/",
          "height": 34
        }
      },
      "source": [
        "#Checking one random image\n",
        "i = random.choice(train.index)\n",
        "\n",
        "img_name = train.ID[i]\n",
        "img = io.imread(os.path.join(data_dir, 'Trainimg', img_name))\n",
        "\n",
        "print(\"Age:\" , train.Class[i])\n"
      ],
      "execution_count": 0,
      "outputs": [
        {
          "output_type": "stream",
          "text": [
            "Age: YOUNG\n"
          ],
          "name": "stdout"
        }
      ]
    },
    {
      "cell_type": "code",
      "metadata": {
        "id": "jnMOtB4KBeLT",
        "colab_type": "code",
        "colab": {}
      },
      "source": [
        "io.imshow(img)"
      ],
      "execution_count": 0,
      "outputs": []
    },
    {
      "cell_type": "markdown",
      "metadata": {
        "id": "3fHmOf-wHVyY",
        "colab_type": "text"
      },
      "source": [
        "# **Resizing the images in the desired size**"
      ]
    },
    {
      "cell_type": "code",
      "metadata": {
        "id": "kRRAcVkDBjDa",
        "colab_type": "code",
        "colab": {}
      },
      "source": [
        "#Calculating the trainX\n",
        "# \"temp.clear()\" func is used because when we run the code again and again it will append the resized images again and again to the temp list but by using this \".clear()\" func, it clears the previous data present in the temp list\n",
        "temp.clear()\n",
        "temp = []\n",
        "i = 0\n",
        "# We are resizing all the images to the shape (100,100) using the \"resize()\" func \n",
        "for img_name in train.ID:\n",
        "\n",
        "  img_path = os.path.join(data_dir, 'Trainimg', img_name)\n",
        "  img = io.imread(img_path)\n",
        "  img = resize(img, (100, 100))\n",
        "  img = img.astype('float32') \n",
        "  temp.append(img)\n",
        "\n",
        "trainX = np.stack(temp)"
      ],
      "execution_count": 0,
      "outputs": []
    },
    {
      "cell_type": "code",
      "metadata": {
        "id": "NJdJlPPjhj5N",
        "colab_type": "code",
        "colab": {}
      },
      "source": [
        "#Calculating the TestX\n",
        "temp.clear()\n",
        "temp = []\n",
        "for img_name in test.ID:\n",
        "    img_path = os.path.join(data_dir, 'Testimg', img_name)\n",
        "    img = io.imread(img_path)\n",
        "    img = resize(img, (100, 100))\n",
        "    temp.append(img.astype('float32'))\n",
        "\n",
        "testX = np.stack(temp)"
      ],
      "execution_count": 0,
      "outputs": []
    },
    {
      "cell_type": "code",
      "metadata": {
        "id": "XCmzBpfjqcIV",
        "colab_type": "code",
        "outputId": "150b38d9-474f-4b5c-c64d-1376d25c6b9b",
        "colab": {
          "base_uri": "https://localhost:8080/",
          "height": 51
        }
      },
      "source": [
        "print(trainX.shape)\n",
        "print(testX.shape)"
      ],
      "execution_count": 0,
      "outputs": [
        {
          "output_type": "stream",
          "text": [
            "(19906, 100, 100, 3)\n",
            "(6636, 100, 100, 3)\n"
          ],
          "name": "stdout"
        }
      ]
    },
    {
      "cell_type": "markdown",
      "metadata": {
        "id": "_gwsvpqoHjjJ",
        "colab_type": "text"
      },
      "source": [
        "# **One hot encoding and normalizing the images**"
      ]
    },
    {
      "cell_type": "code",
      "metadata": {
        "id": "tWQakZyMq0bT",
        "colab_type": "code",
        "colab": {}
      },
      "source": [
        "# one hot encode target values\n",
        "trainY = pd.DataFrame(trainY)\n",
        "TrainY = trainY.replace({'YOUNG': 0, 'MIDDLE': 1,'OLD':2})\n",
        "TrainY = pd.DataFrame(TrainY)\n",
        "TrainY\n",
        "train_Y = to_categorical((TrainY))"
      ],
      "execution_count": 0,
      "outputs": []
    },
    {
      "cell_type": "code",
      "metadata": {
        "id": "5ch5h_l6tdKt",
        "colab_type": "code",
        "colab": {}
      },
      "source": [
        "# normalize to range 0-1\n",
        "# by normalizing the images we get rid of the numbers which can make analysis for data more complicated\n",
        "train_norm = trainX / 255.0\n",
        "test_norm = testX / 255.0"
      ],
      "execution_count": 0,
      "outputs": []
    },
    {
      "cell_type": "markdown",
      "metadata": {
        "id": "fAWZK_ACt_L5",
        "colab_type": "text"
      },
      "source": [
        "# **CNN Model**"
      ]
    },
    {
      "cell_type": "code",
      "metadata": {
        "id": "uCClUekpt6eL",
        "colab_type": "code",
        "colab": {}
      },
      "source": [
        "# Creating the CNN by adding the Conv2D layers and MaxPooling layers \n",
        "# We are using \"relu\" activation func cause we are operating on the images and we dont want to encounter the negative numbers\n",
        "# At last layer we are using the \"Softmax\" activation func cause we have one hot encoded our target values\n",
        "# By this we will get the probability of the result out of 1\n",
        "# The maximum probability will be decoded and will get the desired output in the classes as \"YOUNG\",\"MIDDLE\" and \"OLD\"    \n",
        "model = Sequential()\n",
        "model.add(Conv2D(32, (3, 3), activation='relu', kernel_initializer='he_uniform', input_shape=(100, 100, 3)))\n",
        "model.add(MaxPooling2D((2, 2)))\n",
        "model.add(Conv2D(64, (3, 3), activation='relu', kernel_initializer='he_uniform'))\n",
        "model.add(Conv2D(64, (3, 3), activation='relu', kernel_initializer='he_uniform'))\n",
        "model.add(MaxPooling2D((2, 2)))\n",
        "model.add(Flatten())\n",
        "model.add(Dense(100, activation='relu', kernel_initializer='he_uniform'))\n",
        "model.add(Dense(3, activation='softmax'))\n",
        "# compile model\n",
        "# Adadelta optimizer continues to learn even when updates have been done, it doesnt require the initial lr to be declared as well\n",
        "model.compile(optimizer='adadelta', loss='categorical_crossentropy', metrics=['accuracy'])\n"
      ],
      "execution_count": 0,
      "outputs": []
    },
    {
      "cell_type": "code",
      "metadata": {
        "id": "8hVBviwYuT_C",
        "colab_type": "code",
        "colab": {}
      },
      "source": [
        "# Printing the summary of the model\n",
        "model.summary()"
      ],
      "execution_count": 0,
      "outputs": []
    },
    {
      "cell_type": "code",
      "metadata": {
        "id": "AN0mwjoOuiRf",
        "colab_type": "code",
        "outputId": "07abc0b9-78fb-4e3f-9655-b0d26f03eae1",
        "colab": {
          "base_uri": "https://localhost:8080/",
          "height": 34
        }
      },
      "source": [
        "# Training our model using the \"model.fit()\" function\n",
        "model.fit(trainX, train_Y, epochs=10, batch_size=1000, verbose=0)"
      ],
      "execution_count": 0,
      "outputs": [
        {
          "output_type": "execute_result",
          "data": {
            "text/plain": [
              "<keras.callbacks.callbacks.History at 0x7f235e228470>"
            ]
          },
          "metadata": {
            "tags": []
          },
          "execution_count": 52
        }
      ]
    },
    {
      "cell_type": "markdown",
      "metadata": {
        "id": "wXBxNN2_H48x",
        "colab_type": "text"
      },
      "source": [
        "# **Saving the Trained model**"
      ]
    },
    {
      "cell_type": "code",
      "metadata": {
        "id": "4wvlSYZLBJYM",
        "colab_type": "code",
        "colab": {}
      },
      "source": [
        "model.save('final_model.h5')"
      ],
      "execution_count": 0,
      "outputs": []
    },
    {
      "cell_type": "markdown",
      "metadata": {
        "id": "AsG8RFd2IJW5",
        "colab_type": "text"
      },
      "source": [
        "# **Predicting the Age of the inputted image**"
      ]
    },
    {
      "cell_type": "code",
      "metadata": {
        "id": "WEJpYhuCBQzg",
        "colab_type": "code",
        "colab": {}
      },
      "source": [
        "from keras.preprocessing.image import load_img\n",
        "from keras.preprocessing.image import img_to_array\n",
        "from keras.models import load_model\n",
        "\n",
        "# load the image\n",
        "img = load_img('139 resized.jpg', grayscale=False, target_size=(100, 100))\n",
        "# convert to array\n",
        "img = img_to_array(img)\n",
        "# reshape into a single sample\n",
        "img = img.reshape(1, 100, 100, 3)\n",
        "# prepare pixel data\n",
        "img = img.astype('float32')\n",
        "img = img / 255.0"
      ],
      "execution_count": 0,
      "outputs": []
    },
    {
      "cell_type": "code",
      "metadata": {
        "id": "pbR1JBPoHbQ8",
        "colab_type": "code",
        "outputId": "771eaf62-d38e-46d8-b08f-0d74ef8b8407",
        "colab": {
          "base_uri": "https://localhost:8080/",
          "height": 285
        }
      },
      "source": [
        "# Loading the model using the function \"load_model()\"\n",
        "model = load_model('final_model.h5')\n",
        "# Using \"tf.squeeze()\" in order to remove the dimension size \"1\" from the shape of the img\n",
        "plt.imshow((tf.squeeze(img)))\n",
        "# Using \"model.predict_classes()\" function we are predicting the classes whether it is \"YOUNG\",\"MIDDLE\",\"OLD\"\n",
        "Age = model.predict_classes(img)\n",
        "# As our we have one-hot encoded our target values, we will use if loop to bring the desired output \n",
        "if (Age==0):\n",
        "  print(\"YOUNG\")\n",
        "elif Age==1:\n",
        "  print(\"MIDDLE\")\n",
        "else:\n",
        "  print(\"OLD\")"
      ],
      "execution_count": 0,
      "outputs": [
        {
          "output_type": "stream",
          "text": [
            "YOUNG\n"
          ],
          "name": "stdout"
        },
        {
          "output_type": "display_data",
          "data": {
            "image/png": "[encoded data removed]",
            "text/plain": [
              "<Figure size 432x288 with 1 Axes>"
            ]
          },
          "metadata": {
            "tags": [],
            "needs_background": "light"
          }
        }
      ]
    },
    {
      "cell_type": "markdown",
      "metadata": {
        "id": "YfdiLG8qWo4M",
        "colab_type": "text"
      },
      "source": [
        "##**Summary:**\n",
        "1. Importing the essential libraries to the code\n",
        "2. Then we created the path to the images\n",
        "3. We tested our path by outputting an image from our generated path\n",
        "4. To perform operations on the images using CNN, they must be of the same size. So we resized train images and test images to the shape of (100,100) \n",
        "5. Next we one hot encoded our target variables and normalized our images\n",
        "6. We created a CNN architecture using Conv2D, MaxPooling and Dense layers\n",
        "7. We compiled our model using \"adadelta\" optimizer\n",
        "8. Then we trained our model by taking 10 epochs and batch-size as 1000\n",
        "9. After completing the training we saved our model\n",
        "10. Lastly, We inputted an image into our trained model in order to get the predictions of the age\n"
      ]
    }
  ]
}